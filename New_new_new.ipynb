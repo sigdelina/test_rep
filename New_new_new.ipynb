{
 "cells": [
  {
   "cell_type": "code",
   "execution_count": 12,
   "metadata": {},
   "outputs": [],
   "source": [
    "#Напишите программу, которая извлекает со страницы газетной статьи метаданные:\n",
    "\n",
    "#Название статьи\n",
    "#Имя автора (если указано)\n",
    "#Дату публикации\n",
    "#Категории (если есть)\n",
    "#Для начала можно скачать html-код какой-то статьи и попробовать вытаскивать информацию из него.\n",
    "#А потом убедитесь, что программа не падает на разных статьях.\n"
   ]
  },
  {
   "cell_type": "code",
   "execution_count": 13,
   "metadata": {},
   "outputs": [],
   "source": [
    "import urllib.request  # импортируем модуль \n",
    "import re\n",
    "import urllib.parse\n",
    "\n",
    "def article(commonUrl):\n",
    "    url = commonUrl\n",
    "    user_agent = 'Mozilla/5.0 (Windows NT 6.1; Win64; x64)'  # хотим притворяться браузером\n",
    "    req = urllib.request.Request(url, headers={'User-Agent':user_agent})  \n",
    "    with urllib.request.urlopen(req) as response:\n",
    "        html = response.read().decode('utf-8')\n",
    "    return html"
   ]
  },
  {
   "cell_type": "code",
   "execution_count": 14,
   "metadata": {},
   "outputs": [],
   "source": [
    "def take_Meta(html): #извлекает мета-информацию\n",
    "    meta = {}\n",
    "    dating = ''\n",
    "    pub = ''\n",
    "    regPostTitle = re.compile('h2 class=\"itemTitle\">(.*?)</h2>', flags= re.DOTALL)\n",
    "    date = re.compile('<span class=\"itemDateCreated\">.*,\\s(\\d*\\s[А-Яа-я]*\\d*\\s\\d*)', flags= re.DOTALL)\n",
    "    authorship = re.compile('<a rel=\"author\" href=\".*\">(.*?)</a>.*<div class=\"itemBody\">', flags= re.DOTALL)\n",
    "    item = re.compile('class=\"itemCategory\">.*<span>Опубликовано в</span>.*<a href=\"/news/[A-Za-z]*\">(.*?)</a>', flags= re.DOTALL)\n",
    "    url_path = re.compile('<base href=\"(http://gazeta-vp.ru/news/.*?)>', flags= re.DOTALL)\n",
    "    author = authorship.search(html)\n",
    "    titles = regPostTitle.search(html)\n",
    "    title = titles[1].replace('\\n\\t\\t\\t\\n\\t  \\t', '').replace('\\n\\t  \\t\\n\\t  ', '')\n",
    "    fin_date = date.search(html)\n",
    "    category = item.search(html)\n",
    "    main_path = url_path.search(html)\n",
    "    #переводим время создания в адекватный вид\n",
    "    time_pub = fin_date[1].split(' ')\n",
    "    if time_pub[1] != '':\n",
    "        if time_pub[1] == \"Январь\":\n",
    "            pub = \"01\"\n",
    "        elif time_pub[1] == \"Февраль\":\n",
    "            pub = \"02\"\n",
    "        elif time_pub[1] == \"Март\":\n",
    "            pub = \"03\"\n",
    "        elif time_pub[1] == \"Апрель\":\n",
    "            pub = \"04\"\n",
    "        elif time_pub[1] == \"Май\":\n",
    "            pub = \"05\"\n",
    "        elif time_pub[1] == \"Июнь\":\n",
    "            pub = \"06\"\n",
    "        elif time_pub[1] == \"Июль\":\n",
    "            pub = \"07\"\n",
    "        elif time_pub[1] == \"Август\":\n",
    "            pub = \"08\"\n",
    "        elif time_pub[1] == \"Сентябрь\":\n",
    "            pub = \"09\"\n",
    "        elif time_pub[1] == \"Октябрь\":\n",
    "            pub = \"10\"\n",
    "        elif time_pub[1] == \"Ноябрь\":\n",
    "            pub = \"11\"\n",
    "        elif time_pub[1] == \"Декабрь\":\n",
    "            pub = \"11\"\n",
    "    dating = str(time_pub[0]) + \".\" + str(pub) + '.' + str(time_pub[2])\n",
    "    #print(title, '\\n', time_pub, '\\n', author[1], '\\n', category[1])\n",
    "    meta[title] = [author[1], dating, category[1], main_path[1], time_pub[2]]\n",
    "    print(meta)\n",
    "    return meta"
   ]
  },
  {
   "cell_type": "code",
   "execution_count": 15,
   "metadata": {},
   "outputs": [],
   "source": [
    "def creating_Meta(meta): #функция создает словарь и потом заносит данные в цсв\n",
    "    for key, value in meta.items():\n",
    "        if value[0] == []:\n",
    "            value[0] == None\n",
    "        print(\"Название статьи: %s\\nАвтор: %s\\nДата: %s\\nКатегория: %s\\nURL: %s\\nГод публикации: %s\" \n",
    "              % (key, value[0], value[1], value[2], value[3], value[4]))"
   ]
  },
  {
   "cell_type": "code",
   "execution_count": 16,
   "metadata": {},
   "outputs": [],
   "source": [
    "def article_Text(html): #функция чистит текст статьи\n",
    "    #print(html)\n",
    "    finding_text = re.compile('<div class=\"itemBody\">.*<!-- Item introtext -->(.*)<!-- Item Rating -->', flags= re.DOTALL)\n",
    "    text = finding_text.search(html)\n",
    "    final_t = str(text[1])\n",
    "    regTag = re.compile('<.*?>', re.DOTALL)  # это рег. выражение находит все тэги\n",
    "    regScript = re.compile('<script>.*?</script>', re.DOTALL) # все скрипты\n",
    "    regComment = re.compile('<!--.*?-->', re.DOTALL)  # все комментарии\n",
    "    specsymbols_1 = re.compile('&[A-Za-z]*;', re.DOTALL)\n",
    "    # а дальше заменяем ненужные куски на пустую строку\n",
    "    clean_t = regScript.sub(\"\", final_t)\n",
    "    clean_t = regComment.sub(\"\", clean_t)\n",
    "    clean_t = regTag.sub(\"\", clean_t)\n",
    "    clean_text = specsymbols_1.sub(\"\", clean_t)\n",
    "    print(clean_text)\n",
    "    return"
   ]
  },
  {
   "cell_type": "code",
   "execution_count": 17,
   "metadata": {},
   "outputs": [
    {
     "name": "stdout",
     "output_type": "stream",
     "text": [
      "{'Нарисуйте логотип к юбилею Волжского': ['Татьяна Киппари', '26.10.2018', 'Общество', 'http://gazeta-vp.ru/news/item/17950\" /', '2018']}\n",
      "Название статьи: Нарисуйте логотип к юбилею Волжского\n",
      "Автор: Татьяна Киппари\n",
      "Дата: 26.10.2018\n",
      "Категория: Общество\n",
      "URL: http://gazeta-vp.ru/news/item/17950\" /\n",
      "Год публикации: 2018\n",
      "\n",
      "\t  \n",
      "\t  \tВ Волжском проводится конкурс на лучший логотип празднования 65-летия города. Конкурсные работы принимаются в администрации Волжского.\r\n",
      "\t  \n",
      "\t  \t  \t  \n",
      "\t  \n",
      "\t  \t\r\n",
      "В конкурсе могут принять участие художники, дизайнеры, копирайтеры, специалисты дизайн-студии, рекламных агентств, творческие объединения, а также любой желающий житель города.\r\n",
      "Логотип в виде рисунка в цветовом исполнении должен быть представлен в электронном варианте, выполненном в графических редакторах. Ответственность за соблюдение авторских прав, норм и требований федерального законодательства несёт участник, приславший данную работу. Кроме того, конкурсанты дают согласие на обработку своих персональных данных.\r\n",
      "Пакет документов для участия в конкурсе должен содержать заявку (ФИО автора, контактный телефон, адрес электронной почты) и саму работу, соответствующую установленным требованиям. Подать заявку можно одним из следующих способов:\r\n",
      "- в управлении информационной политики и массовых коммуникаций администрации Волжского по адресу: пр. Ленина, 21, кабинет 9 (с понедельника по пятницу с 8.30 до 17.30, перерыв  с 13.00 до 14.00); - посредством электронной почты: forpress.vlz@yandex.ru.\r\n",
      "6 ноября итоги конкурса подведёт оценочная комиссия. Участников, занявших призовые места, наградят ценными подарками и почётными грамотами.\t  \n",
      "\t  \t  \n",
      "\t\t\n",
      "\n",
      "\t  \n",
      "                \n"
     ]
    }
   ],
   "source": [
    "def main(): #запускающая функция\n",
    "   # list_categories = []\n",
    "    commonUrl = 'http://gazeta-vp.ru/news/item/17950'\n",
    "    #for i in range(1, 10):\n",
    "    #    pageUrl = commonUrl + str(i)\n",
    "    #    download_page(pageUrl)\n",
    "    #url = urllib.parse.urlsplit(commonUrl)\n",
    "    #url = list(url)\n",
    "    #url[2] = urllib.parse.quote(url[2])\n",
    "   # commonUrl = urllib.parse.urlunsplit(url)\n",
    "    url_article = article(commonUrl)\n",
    "    take = take_Meta(url_article)\n",
    "    meta = creating_Meta(take)\n",
    "    text = article_Text(url_article)\n",
    "\n",
    "main()"
   ]
  },
  {
   "cell_type": "code",
   "execution_count": null,
   "metadata": {},
   "outputs": [],
   "source": []
  }
 ],
 "metadata": {
  "kernelspec": {
   "display_name": "Python 3",
   "language": "python",
   "name": "python3"
  },
  "language_info": {
   "codemirror_mode": {
    "name": "ipython",
    "version": 3
   },
   "file_extension": ".py",
   "mimetype": "text/x-python",
   "name": "python",
   "nbconvert_exporter": "python",
   "pygments_lexer": "ipython3",
   "version": "3.6.5"
  }
 },
 "nbformat": 4,
 "nbformat_minor": 2
}
