{
 "cells": [
  {
   "cell_type": "code",
   "execution_count": 24,
   "metadata": {},
   "outputs": [
    {
     "name": "stdout",
     "output_type": "stream",
     "text": [
      "1\n"
     ]
    }
   ],
   "source": [
    "#C:\\Users\\Анна\\Desktop\\Газета\\plain\\2018\\10\\article_17943.txt\n",
    "import re\n",
    "\n",
    "file_name = r\"C:\\Users\\Анна\\Desktop\\Газета\\plain\\2018\\10\\article_17943.txt\"\n",
    "file = open(file_name, encoding='utf-8')\n",
    "fi = file.read()\n",
    "file.close()\n",
    "sent = re.compile('.*?[.?!]')\n",
    "wrong = re.sub('@[A-Za-z]*.*\\n', \"\", fi)\n",
    "wrong_1 = re.sub('\\n', \"\", wrong)\n",
    "clean = re.sub('\\t', \"\", wrong_1)\n",
    "sentence = sent.findall(clean)\n",
    "text = ''\n",
    "for senten in sentence:\n",
    "    cl = re.sub('^ ', \"\", senten)\n",
    "    text = text + cl + '\\n'\n",
    "filename = r\"C:\\Users\\Анна\\Desktop\\Газета\\plain\\2018\\10\\article_17943_1.txt\"\n",
    "with open(filename, \"w\", encoding=\"utf-8\") as txt:\n",
    "    txt.write(text)\n",
    "inp = filename\n",
    "    \n",
    "import os\n",
    "#inp = r\"plain\\2018\\10\"\n",
    "#lst = os.listdir(inp)\n",
    "#for fl in lst:\n",
    "#os.system(r\"C:\\mystem.exe input.filling output.filling\")\n",
    "print(os.system(r\"C:\\mystem.exe -cgin --format xml —eng-gr filename.txt out.xml\"))"
   ]
  },
  {
   "cell_type": "code",
   "execution_count": null,
   "metadata": {},
   "outputs": [],
   "source": []
  }
 ],
 "metadata": {
  "kernelspec": {
   "display_name": "Python 3",
   "language": "python",
   "name": "python3"
  },
  "language_info": {
   "codemirror_mode": {
    "name": "ipython",
    "version": 3
   },
   "file_extension": ".py",
   "mimetype": "text/x-python",
   "name": "python",
   "nbconvert_exporter": "python",
   "pygments_lexer": "ipython3",
   "version": "3.6.5"
  }
 },
 "nbformat": 4,
 "nbformat_minor": 2
}
